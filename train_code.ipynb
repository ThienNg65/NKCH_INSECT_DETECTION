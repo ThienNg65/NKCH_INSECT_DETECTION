{
  "cells": [
    {
      "cell_type": "markdown",
      "source": [
        "**Mount drive**"
      ],
      "metadata": {
        "id": "rU-rkZX-8dxG"
      }
    },
    {
      "cell_type": "code",
      "source": [
        "from google.colab import drive\n",
        "drive.mount('/content/drive')"
      ],
      "metadata": {
        "colab": {
          "base_uri": "https://localhost:8080/"
        },
        "id": "0fQXLrYn8cFK",
        "outputId": "58560c40-efce-4482-f08a-f18efd778f04"
      },
      "execution_count": null,
      "outputs": [
        {
          "output_type": "stream",
          "name": "stdout",
          "text": [
            "Mounted at /content/drive\n"
          ]
        }
      ]
    },
    {
      "cell_type": "code",
      "source": [
        "import tensorflow as tf\n",
        "print(tf.__version__)"
      ],
      "metadata": {
        "colab": {
          "base_uri": "https://localhost:8080/"
        },
        "id": "AVZUn9qmGApR",
        "outputId": "81bde288-7561-40f9-d8ce-727bdbf64e10"
      },
      "execution_count": 1,
      "outputs": [
        {
          "output_type": "stream",
          "name": "stdout",
          "text": [
            "2.12.0\n"
          ]
        }
      ]
    },
    {
      "cell_type": "markdown",
      "metadata": {
        "id": "xcTwi63N8Xte"
      },
      "source": [
        "**Train**"
      ]
    },
    {
      "cell_type": "code",
      "source": [
        "pip install ultralytics"
      ],
      "metadata": {
        "id": "8Z6wJcGc8-iC",
        "colab": {
          "base_uri": "https://localhost:8080/"
        },
        "outputId": "ad6262a0-0408-4061-b9b8-5554ebf67091"
      },
      "execution_count": null,
      "outputs": [
        {
          "output_type": "stream",
          "name": "stdout",
          "text": [
            "Collecting ultralytics\n",
            "  Downloading ultralytics-8.0.132-py3-none-any.whl (627 kB)\n",
            "\u001b[?25l     \u001b[90m━━━━━━━━━━━━━━━━━━━━━━━━━━━━━━━━━━━━━━━━\u001b[0m \u001b[32m0.0/627.5 kB\u001b[0m \u001b[31m?\u001b[0m eta \u001b[36m-:--:--\u001b[0m\r\u001b[2K     \u001b[91m━━━━━━━━━━━━\u001b[0m\u001b[90m╺\u001b[0m\u001b[90m━━━━━━━━━━━━━━━━━━━━━━━━━━\u001b[0m \u001b[32m194.6/627.5 kB\u001b[0m \u001b[31m5.8 MB/s\u001b[0m eta \u001b[36m0:00:01\u001b[0m\r\u001b[2K     \u001b[90m━━━━━━━━━━━━━━━━━━━━━━━━━━━━━━━━━━━━━━━\u001b[0m \u001b[32m627.5/627.5 kB\u001b[0m \u001b[31m9.6 MB/s\u001b[0m eta \u001b[36m0:00:00\u001b[0m\n",
            "\u001b[?25hRequirement already satisfied: matplotlib>=3.2.2 in /usr/local/lib/python3.10/dist-packages (from ultralytics) (3.7.1)\n",
            "Requirement already satisfied: opencv-python>=4.6.0 in /usr/local/lib/python3.10/dist-packages (from ultralytics) (4.7.0.72)\n",
            "Requirement already satisfied: Pillow>=7.1.2 in /usr/local/lib/python3.10/dist-packages (from ultralytics) (8.4.0)\n",
            "Requirement already satisfied: PyYAML>=5.3.1 in /usr/local/lib/python3.10/dist-packages (from ultralytics) (6.0)\n",
            "Requirement already satisfied: requests>=2.23.0 in /usr/local/lib/python3.10/dist-packages (from ultralytics) (2.27.1)\n",
            "Requirement already satisfied: scipy>=1.4.1 in /usr/local/lib/python3.10/dist-packages (from ultralytics) (1.10.1)\n",
            "Requirement already satisfied: torch>=1.7.0 in /usr/local/lib/python3.10/dist-packages (from ultralytics) (2.0.1+cu118)\n",
            "Requirement already satisfied: torchvision>=0.8.1 in /usr/local/lib/python3.10/dist-packages (from ultralytics) (0.15.2+cu118)\n",
            "Requirement already satisfied: tqdm>=4.64.0 in /usr/local/lib/python3.10/dist-packages (from ultralytics) (4.65.0)\n",
            "Requirement already satisfied: pandas>=1.1.4 in /usr/local/lib/python3.10/dist-packages (from ultralytics) (1.5.3)\n",
            "Requirement already satisfied: seaborn>=0.11.0 in /usr/local/lib/python3.10/dist-packages (from ultralytics) (0.12.2)\n",
            "Requirement already satisfied: psutil in /usr/local/lib/python3.10/dist-packages (from ultralytics) (5.9.5)\n",
            "Requirement already satisfied: contourpy>=1.0.1 in /usr/local/lib/python3.10/dist-packages (from matplotlib>=3.2.2->ultralytics) (1.1.0)\n",
            "Requirement already satisfied: cycler>=0.10 in /usr/local/lib/python3.10/dist-packages (from matplotlib>=3.2.2->ultralytics) (0.11.0)\n",
            "Requirement already satisfied: fonttools>=4.22.0 in /usr/local/lib/python3.10/dist-packages (from matplotlib>=3.2.2->ultralytics) (4.40.0)\n",
            "Requirement already satisfied: kiwisolver>=1.0.1 in /usr/local/lib/python3.10/dist-packages (from matplotlib>=3.2.2->ultralytics) (1.4.4)\n",
            "Requirement already satisfied: numpy>=1.20 in /usr/local/lib/python3.10/dist-packages (from matplotlib>=3.2.2->ultralytics) (1.22.4)\n",
            "Requirement already satisfied: packaging>=20.0 in /usr/local/lib/python3.10/dist-packages (from matplotlib>=3.2.2->ultralytics) (23.1)\n",
            "Requirement already satisfied: pyparsing>=2.3.1 in /usr/local/lib/python3.10/dist-packages (from matplotlib>=3.2.2->ultralytics) (3.1.0)\n",
            "Requirement already satisfied: python-dateutil>=2.7 in /usr/local/lib/python3.10/dist-packages (from matplotlib>=3.2.2->ultralytics) (2.8.2)\n",
            "Requirement already satisfied: pytz>=2020.1 in /usr/local/lib/python3.10/dist-packages (from pandas>=1.1.4->ultralytics) (2022.7.1)\n",
            "Requirement already satisfied: urllib3<1.27,>=1.21.1 in /usr/local/lib/python3.10/dist-packages (from requests>=2.23.0->ultralytics) (1.26.16)\n",
            "Requirement already satisfied: certifi>=2017.4.17 in /usr/local/lib/python3.10/dist-packages (from requests>=2.23.0->ultralytics) (2023.5.7)\n",
            "Requirement already satisfied: charset-normalizer~=2.0.0 in /usr/local/lib/python3.10/dist-packages (from requests>=2.23.0->ultralytics) (2.0.12)\n",
            "Requirement already satisfied: idna<4,>=2.5 in /usr/local/lib/python3.10/dist-packages (from requests>=2.23.0->ultralytics) (3.4)\n",
            "Requirement already satisfied: filelock in /usr/local/lib/python3.10/dist-packages (from torch>=1.7.0->ultralytics) (3.12.2)\n",
            "Requirement already satisfied: typing-extensions in /usr/local/lib/python3.10/dist-packages (from torch>=1.7.0->ultralytics) (4.7.1)\n",
            "Requirement already satisfied: sympy in /usr/local/lib/python3.10/dist-packages (from torch>=1.7.0->ultralytics) (1.11.1)\n",
            "Requirement already satisfied: networkx in /usr/local/lib/python3.10/dist-packages (from torch>=1.7.0->ultralytics) (3.1)\n",
            "Requirement already satisfied: jinja2 in /usr/local/lib/python3.10/dist-packages (from torch>=1.7.0->ultralytics) (3.1.2)\n",
            "Requirement already satisfied: triton==2.0.0 in /usr/local/lib/python3.10/dist-packages (from torch>=1.7.0->ultralytics) (2.0.0)\n",
            "Requirement already satisfied: cmake in /usr/local/lib/python3.10/dist-packages (from triton==2.0.0->torch>=1.7.0->ultralytics) (3.25.2)\n",
            "Requirement already satisfied: lit in /usr/local/lib/python3.10/dist-packages (from triton==2.0.0->torch>=1.7.0->ultralytics) (16.0.6)\n",
            "Requirement already satisfied: six>=1.5 in /usr/local/lib/python3.10/dist-packages (from python-dateutil>=2.7->matplotlib>=3.2.2->ultralytics) (1.16.0)\n",
            "Requirement already satisfied: MarkupSafe>=2.0 in /usr/local/lib/python3.10/dist-packages (from jinja2->torch>=1.7.0->ultralytics) (2.1.3)\n",
            "Requirement already satisfied: mpmath>=0.19 in /usr/local/lib/python3.10/dist-packages (from sympy->torch>=1.7.0->ultralytics) (1.3.0)\n",
            "Installing collected packages: ultralytics\n",
            "Successfully installed ultralytics-8.0.132\n"
          ]
        }
      ]
    },
    {
      "cell_type": "code",
      "execution_count": null,
      "metadata": {
        "colab": {
          "base_uri": "https://localhost:8080/"
        },
        "id": "bDBZDKMU8Xth",
        "outputId": "19b4cee8-a188-444d-e38e-93af91df7052"
      },
      "outputs": [
        {
          "output_type": "stream",
          "name": "stderr",
          "text": [
            "Ultralytics YOLOv8.0.132 🚀 Python-3.10.12 torch-2.0.1+cu118 CPU\n",
            "Setup complete ✅ (2 CPUs, 12.7 GB RAM, 24.4/107.7 GB disk)\n"
          ]
        }
      ],
      "source": [
        "import ultralytics\n",
        "ultralytics.checks()\n",
        "from ultralytics import YOLO"
      ]
    },
    {
      "cell_type": "code",
      "source": [
        "model = YOLO('yolov8n.pt') # pass any model type"
      ],
      "metadata": {
        "colab": {
          "base_uri": "https://localhost:8080/"
        },
        "id": "VneSsiP186WW",
        "outputId": "c3c64a77-ed15-4c93-8133-82afa50ce8b0"
      },
      "execution_count": null,
      "outputs": [
        {
          "output_type": "stream",
          "name": "stderr",
          "text": [
            "Downloading https://github.com/ultralytics/assets/releases/download/v0.0.0/yolov8n.pt to yolov8n.pt...\n",
            "100%|██████████| 6.23M/6.23M [00:00<00:00, 79.4MB/s]\n"
          ]
        }
      ]
    },
    {
      "cell_type": "markdown",
      "source": [
        "Khi train chính thức thì đổi địa chỉ sang `\"/content/drive/MyDrive/Nghiên cứu khoa học/Insects_Classification/Reup/\"`\n"
      ],
      "metadata": {
        "id": "Iqml9TCXH7H2"
      }
    },
    {
      "cell_type": "code",
      "source": [
        "data_dir = \"/content/drive/MyDrive/Nghiên cứu khoa học/Insects_Classification/Reup/exeperimental_training/experiment_dataset.yaml\"\n",
        "result_dir = \"/content/drive/MyDrive/Nghiên cứu khoa học/Insects_Classification/Reup/training_results\""
      ],
      "metadata": {
        "id": "klOMPtnKAuxC"
      },
      "execution_count": null,
      "outputs": []
    },
    {
      "cell_type": "code",
      "source": [
        "model.train(data=data_dir, epochs=3, imgsz=640, batch=10, project=result_dir, name=\"insect_detecting\")"
      ],
      "metadata": {
        "colab": {
          "base_uri": "https://localhost:8080/"
        },
        "id": "A5YjO2FJ_iiJ",
        "outputId": "08ef7c25-a884-4fb2-9db1-df79ecdc779e"
      },
      "execution_count": null,
      "outputs": [
        {
          "output_type": "stream",
          "name": "stderr",
          "text": [
            "Ultralytics YOLOv8.0.132 🚀 Python-3.10.12 torch-2.0.1+cu118 CPU\n",
            "\u001b[34m\u001b[1myolo/engine/trainer: \u001b[0mtask=detect, mode=train, model=yolov8n.pt, data=/content/drive/MyDrive/Nghiên cứu khoa học/Insects_Classification/Reup/exeperimental_training/experiment_dataset.yaml, epochs=3, patience=50, batch=10, imgsz=640, save=True, save_period=-1, cache=False, device=None, workers=8, project=/content/drive/MyDrive/Nghiên cứu khoa học/Insects_Classification/Reup/training_results, name=insect_detecting, exist_ok=False, pretrained=True, optimizer=auto, verbose=True, seed=0, deterministic=True, single_cls=False, rect=False, cos_lr=False, close_mosaic=10, resume=False, amp=True, fraction=1.0, profile=False, overlap_mask=True, mask_ratio=4, dropout=0.0, val=True, split=val, save_json=False, save_hybrid=False, conf=None, iou=0.7, max_det=300, half=False, dnn=False, plots=True, source=None, show=False, save_txt=False, save_conf=False, save_crop=False, show_labels=True, show_conf=True, vid_stride=1, line_width=None, visualize=False, augment=False, agnostic_nms=False, classes=None, retina_masks=False, boxes=True, format=torchscript, keras=False, optimize=False, int8=False, dynamic=False, simplify=False, opset=None, workspace=4, nms=False, lr0=0.01, lrf=0.01, momentum=0.937, weight_decay=0.0005, warmup_epochs=3.0, warmup_momentum=0.8, warmup_bias_lr=0.1, box=7.5, cls=0.5, dfl=1.5, pose=12.0, kobj=1.0, label_smoothing=0.0, nbs=64, hsv_h=0.015, hsv_s=0.7, hsv_v=0.4, degrees=0.0, translate=0.1, scale=0.5, shear=0.0, perspective=0.0, flipud=0.0, fliplr=0.5, mosaic=1.0, mixup=0.0, copy_paste=0.0, cfg=None, v5loader=False, tracker=botsort.yaml, save_dir=/content/drive/MyDrive/Nghiên cứu khoa học/Insects_Classification/Reup/training_results/insect_detecting3\n",
            "Downloading https://ultralytics.com/assets/Arial.ttf to /root/.config/Ultralytics/Arial.ttf...\n",
            "100%|██████████| 755k/755k [00:00<00:00, 22.7MB/s]\n",
            "Overriding model.yaml nc=80 with nc=102\n",
            "\n",
            "                   from  n    params  module                                       arguments                     \n",
            "  0                  -1  1       464  ultralytics.nn.modules.conv.Conv             [3, 16, 3, 2]                 \n",
            "  1                  -1  1      4672  ultralytics.nn.modules.conv.Conv             [16, 32, 3, 2]                \n",
            "  2                  -1  1      7360  ultralytics.nn.modules.block.C2f             [32, 32, 1, True]             \n",
            "  3                  -1  1     18560  ultralytics.nn.modules.conv.Conv             [32, 64, 3, 2]                \n",
            "  4                  -1  2     49664  ultralytics.nn.modules.block.C2f             [64, 64, 2, True]             \n",
            "  5                  -1  1     73984  ultralytics.nn.modules.conv.Conv             [64, 128, 3, 2]               \n",
            "  6                  -1  2    197632  ultralytics.nn.modules.block.C2f             [128, 128, 2, True]           \n",
            "  7                  -1  1    295424  ultralytics.nn.modules.conv.Conv             [128, 256, 3, 2]              \n",
            "  8                  -1  1    460288  ultralytics.nn.modules.block.C2f             [256, 256, 1, True]           \n",
            "  9                  -1  1    164608  ultralytics.nn.modules.block.SPPF            [256, 256, 5]                 \n",
            " 10                  -1  1         0  torch.nn.modules.upsampling.Upsample         [None, 2, 'nearest']          \n",
            " 11             [-1, 6]  1         0  ultralytics.nn.modules.conv.Concat           [1]                           \n",
            " 12                  -1  1    148224  ultralytics.nn.modules.block.C2f             [384, 128, 1]                 \n",
            " 13                  -1  1         0  torch.nn.modules.upsampling.Upsample         [None, 2, 'nearest']          \n",
            " 14             [-1, 4]  1         0  ultralytics.nn.modules.conv.Concat           [1]                           \n",
            " 15                  -1  1     37248  ultralytics.nn.modules.block.C2f             [192, 64, 1]                  \n",
            " 16                  -1  1     36992  ultralytics.nn.modules.conv.Conv             [64, 64, 3, 2]                \n",
            " 17            [-1, 12]  1         0  ultralytics.nn.modules.conv.Concat           [1]                           \n",
            " 18                  -1  1    123648  ultralytics.nn.modules.block.C2f             [192, 128, 1]                 \n",
            " 19                  -1  1    147712  ultralytics.nn.modules.conv.Conv             [128, 128, 3, 2]              \n",
            " 20             [-1, 9]  1         0  ultralytics.nn.modules.conv.Concat           [1]                           \n",
            " 21                  -1  1    493056  ultralytics.nn.modules.block.C2f             [384, 256, 1]                 \n",
            " 22        [15, 18, 21]  1   1087210  ultralytics.nn.modules.head.Detect           [102, [64, 128, 256]]         \n",
            "Model summary: 225 layers, 3346746 parameters, 3346730 gradients\n",
            "\n",
            "Transferred 319/355 items from pretrained weights\n",
            "\u001b[34m\u001b[1mTensorBoard: \u001b[0mStart with 'tensorboard --logdir /content/drive/MyDrive/Nghiên cứu khoa học/Insects_Classification/Reup/training_results/insect_detecting3', view at http://localhost:6006/\n",
            "\u001b[34m\u001b[1mtrain: \u001b[0mScanning /content/drive/.shortcut-targets-by-id/1CvUdAjS_wUwVyr81kTA_lgsRU07N1JOg/Nghiên cứu khoa học/Insects_Classification/Reup/exeperimental_training/trainval.cache... 50 images, 0 backgrounds, 0 corrupt: 100%|██████████| 50/50 [00:00<?, ?it/s]\n",
            "\u001b[34m\u001b[1malbumentations: \u001b[0mBlur(p=0.01, blur_limit=(3, 7)), MedianBlur(p=0.01, blur_limit=(3, 7)), ToGray(p=0.01), CLAHE(p=0.01, clip_limit=(1, 4.0), tile_grid_size=(8, 8))\n",
            "\u001b[34m\u001b[1mval: \u001b[0mScanning /content/drive/.shortcut-targets-by-id/1CvUdAjS_wUwVyr81kTA_lgsRU07N1JOg/Nghiên cứu khoa học/Insects_Classification/Reup/exeperimental_training/trainval.cache... 50 images, 0 backgrounds, 0 corrupt: 100%|██████████| 50/50 [00:00<?, ?it/s]\n",
            "Plotting labels to /content/drive/MyDrive/Nghiên cứu khoa học/Insects_Classification/Reup/training_results/insect_detecting3/labels.jpg... \n",
            "\u001b[34m\u001b[1moptimizer:\u001b[0m AdamW(lr=9.4e-05, momentum=0.9) with parameter groups 57 weight(decay=0.0), 64 weight(decay=0.00046875), 63 bias(decay=0.0)\n",
            "Image sizes 640 train, 640 val\n",
            "Using 0 dataloader workers\n",
            "Logging results to \u001b[1m/content/drive/MyDrive/Nghiên cứu khoa học/Insects_Classification/Reup/training_results/insect_detecting3\u001b[0m\n",
            "Starting training for 3 epochs...\n",
            "\n",
            "      Epoch    GPU_mem   box_loss   cls_loss   dfl_loss  Instances       Size\n",
            "        1/3         0G      1.464      5.055      1.745         24        640: 100%|██████████| 5/5 [00:58<00:00, 11.62s/it]\n",
            "                 Class     Images  Instances      Box(P          R      mAP50  mAP50-95): 100%|██████████| 3/3 [00:15<00:00,  5.12s/it]\n",
            "                   all         50         58          0          0          0          0\n",
            "\n",
            "      Epoch    GPU_mem   box_loss   cls_loss   dfl_loss  Instances       Size\n",
            "        2/3         0G      1.523      5.065      1.815         35        640: 100%|██████████| 5/5 [00:44<00:00,  8.85s/it]\n",
            "                 Class     Images  Instances      Box(P          R      mAP50  mAP50-95): 100%|██████████| 3/3 [00:14<00:00,  4.91s/it]\n",
            "                   all         50         58          0          0          0          0\n",
            "\n",
            "      Epoch    GPU_mem   box_loss   cls_loss   dfl_loss  Instances       Size\n",
            "        3/3         0G      1.474      5.006      1.711         29        640: 100%|██████████| 5/5 [00:46<00:00,  9.26s/it]\n",
            "                 Class     Images  Instances      Box(P          R      mAP50  mAP50-95): 100%|██████████| 3/3 [00:15<00:00,  5.04s/it]\n",
            "                   all         50         58          0          0          0          0\n",
            "\n",
            "3 epochs completed in 0.056 hours.\n",
            "Optimizer stripped from /content/drive/MyDrive/Nghiên cứu khoa học/Insects_Classification/Reup/training_results/insect_detecting3/weights/last.pt, 6.9MB\n",
            "Optimizer stripped from /content/drive/MyDrive/Nghiên cứu khoa học/Insects_Classification/Reup/training_results/insect_detecting3/weights/best.pt, 6.9MB\n",
            "\n",
            "Validating /content/drive/MyDrive/Nghiên cứu khoa học/Insects_Classification/Reup/training_results/insect_detecting3/weights/best.pt...\n",
            "Ultralytics YOLOv8.0.132 🚀 Python-3.10.12 torch-2.0.1+cu118 CPU\n",
            "Model summary (fused): 168 layers, 3341330 parameters, 0 gradients\n",
            "                 Class     Images  Instances      Box(P          R      mAP50  mAP50-95): 100%|██████████| 3/3 [00:13<00:00,  4.52s/it]\n",
            "                   all         50         58          0          0          0          0\n",
            "Speed: 1.9ms preprocess, 229.5ms inference, 0.0ms loss, 0.9ms postprocess per image\n",
            "Results saved to \u001b[1m/content/drive/MyDrive/Nghiên cứu khoa học/Insects_Classification/Reup/training_results/insect_detecting3\u001b[0m\n"
          ]
        }
      ]
    },
    {
      "cell_type": "markdown",
      "metadata": {
        "id": "YuSLf8R18Xtj"
      },
      "source": [
        "**Prediction**"
      ]
    },
    {
      "cell_type": "code",
      "source": [
        "# Define path to the image file\n",
        "source = '/content/drive/MyDrive/Nghiên cứu khoa học/Insects_Classification/Reup/prediction_images'\n"
      ],
      "metadata": {
        "id": "oZaWh1SyGwh5"
      },
      "execution_count": null,
      "outputs": []
    },
    {
      "cell_type": "code",
      "execution_count": null,
      "metadata": {
        "colab": {
          "base_uri": "https://localhost:8080/"
        },
        "id": "-gjHyBKv8Xtk",
        "outputId": "991273b2-732f-4e95-d571-451cf2a379c8"
      },
      "outputs": [
        {
          "output_type": "stream",
          "name": "stderr",
          "text": [
            "\n",
            "image 1/6 /content/drive/MyDrive/Nghiên cứu khoa học/Insects_Classification/Reup/prediction_images/IP009000231.jpg: 512x640 (no detections), 190.6ms\n",
            "image 2/6 /content/drive/MyDrive/Nghiên cứu khoa học/Insects_Classification/Reup/prediction_images/IP022000163.jpg: 448x640 (no detections), 169.6ms\n",
            "image 3/6 /content/drive/MyDrive/Nghiên cứu khoa học/Insects_Classification/Reup/prediction_images/IP034000029.jpg: 512x640 (no detections), 169.4ms\n",
            "image 4/6 /content/drive/MyDrive/Nghiên cứu khoa học/Insects_Classification/Reup/prediction_images/IP048000152.jpg: 640x544 (no detections), 189.1ms\n",
            "image 5/6 /content/drive/MyDrive/Nghiên cứu khoa học/Insects_Classification/Reup/prediction_images/IP053000086.jpg: 480x640 (no detections), 269.0ms\n",
            "image 6/6 /content/drive/MyDrive/Nghiên cứu khoa học/Insects_Classification/Reup/prediction_images/IP087000986.jpg: 480x640 (no detections), 260.4ms\n",
            "Speed: 3.2ms preprocess, 208.0ms inference, 1.0ms postprocess per image at shape (1, 3, 480, 640)\n",
            "Results saved to \u001b[1m/content/drive/MyDrive/Nghiên cứu khoa học/Insects_Classification/Reup/training_results/insect_detecting4\u001b[0m\n"
          ]
        }
      ],
      "source": [
        "results = model(source, save=True, imgsz=640, conf=0.25)"
      ]
    },
    {
      "cell_type": "markdown",
      "source": [
        "**Export**\n",
        "\n"
      ],
      "metadata": {
        "id": "-vYJf4BxIjmd"
      }
    },
    {
      "cell_type": "code",
      "source": [
        "#load model\n",
        "model = YOLO('/content/drive/MyDrive/Nghiên cứu khoa học/Insects_Classification/Reup/training_results/insect_detecting3/weights/best.pt')\n",
        "\n",
        "#export\n",
        "model.export(format='tflite')"
      ],
      "metadata": {
        "colab": {
          "base_uri": "https://localhost:8080/",
          "height": 554
        },
        "id": "KWn7dypKH4ME",
        "outputId": "33458c78-c29d-40b6-8c6b-b66628d03eea"
      },
      "execution_count": null,
      "outputs": [
        {
          "output_type": "stream",
          "name": "stderr",
          "text": [
            "Ultralytics YOLOv8.0.132 🚀 Python-3.10.12 torch-2.0.1+cu118 CPU\n",
            "Model summary (fused): 168 layers, 3341330 parameters, 0 gradients\n",
            "\n",
            "\u001b[34m\u001b[1mPyTorch:\u001b[0m starting from /content/drive/MyDrive/Nghiên cứu khoa học/Insects_Classification/Reup/training_results/insect_detecting3/weights/best.pt with input shape (1, 3, 640, 640) BCHW and output shape(s) (1, 106, 8400) (6.6 MB)\n",
            "\n",
            "\u001b[34m\u001b[1mTensorFlow SavedModel:\u001b[0m starting export with tensorflow 2.12.0...\n",
            "\n",
            "\u001b[34m\u001b[1mONNX:\u001b[0m starting export with onnx 1.14.0 opset 17...\n",
            "\u001b[34m\u001b[1mONNX:\u001b[0m simplifying with onnxsim 0.4.33...\n"
          ]
        },
        {
          "output_type": "stream",
          "name": "stdout",
          "text": [
            "============= Diagnostic Run torch.onnx.export version 2.0.1+cu118 =============\n",
            "verbose: False, log level: Level.ERROR\n",
            "======================= 0 NONE 0 NOTE 0 WARNING 0 ERROR ========================\n",
            "\n"
          ]
        },
        {
          "output_type": "stream",
          "name": "stderr",
          "text": [
            "\u001b[34m\u001b[1mONNX:\u001b[0m export success ✅ 10.4s, saved as /content/drive/MyDrive/Nghiên cứu khoa học/Insects_Classification/Reup/training_results/insect_detecting3/weights/best.onnx (12.9 MB)\n",
            "\n",
            "\u001b[34m\u001b[1mTensorFlow SavedModel:\u001b[0m running 'onnx2tf -i /content/drive/MyDrive/Nghiên cứu khoa học/Insects_Classification/Reup/training_results/insect_detecting3/weights/best.onnx -o /content/drive/MyDrive/Nghiên cứu khoa học/Insects_Classification/Reup/training_results/insect_detecting3/weights/best_saved_model -nuo --non_verbose'\n",
            "\u001b[34m\u001b[1mTensorFlow SavedModel:\u001b[0m export failure ❌ 16.0s: SavedModel file does not exist at: /content/drive/MyDrive/Nghiên cứu khoa học/Insects_Classification/Reup/training_results/insect_detecting3/weights/best_saved_model/{saved_model.pbtxt|saved_model.pb}\n",
            "\n",
            "\u001b[34m\u001b[1mTensorFlow Lite:\u001b[0m starting export with tensorflow 2.12.0...\n",
            "\u001b[34m\u001b[1mTensorFlow Lite:\u001b[0m export success ✅ 0.0s, saved as /content/drive/MyDrive/Nghiên cứu khoa học/Insects_Classification/Reup/training_results/insect_detecting3/weights/best_saved_model/best_float32.tflite (0.0 MB)\n",
            "\n",
            "Export complete (17.3s)\n",
            "Results saved to \u001b[1m/content/drive/.shortcut-targets-by-id/1CvUdAjS_wUwVyr81kTA_lgsRU07N1JOg/Nghiên cứu khoa học/Insects_Classification/Reup/training_results/insect_detecting3/weights\u001b[0m\n",
            "Predict:         yolo predict task=detect model=/content/drive/MyDrive/Nghiên cứu khoa học/Insects_Classification/Reup/training_results/insect_detecting3/weights/best_saved_model/best_float32.tflite imgsz=640 \n",
            "Validate:        yolo val task=detect model=/content/drive/MyDrive/Nghiên cứu khoa học/Insects_Classification/Reup/training_results/insect_detecting3/weights/best_saved_model/best_float32.tflite imgsz=640 data=/content/drive/MyDrive/Nghiên cứu khoa học/Insects_Classification/Reup/exeperimental_training/experiment_dataset.yaml \n",
            "Visualize:       https://netron.app\n"
          ]
        },
        {
          "output_type": "execute_result",
          "data": {
            "text/plain": [
              "'/content/drive/MyDrive/Nghiên cứu khoa học/Insects_Classification/Reup/training_results/insect_detecting3/weights/best_saved_model/best_float32.tflite'"
            ],
            "application/vnd.google.colaboratory.intrinsic+json": {
              "type": "string"
            }
          },
          "metadata": {},
          "execution_count": 29
        }
      ]
    },
    {
      "cell_type": "markdown",
      "source": [
        "1\n",
        "Link hướng dẫn convert onnx -> tflite: https://viblo.asia/p/huong-dan-convert-pytorch-sang-tf-lite-YWOZrV8RZQ0"
      ],
      "metadata": {
        "id": "tbxfVJnmYwqj"
      }
    },
    {
      "cell_type": "code",
      "source": [
        "!pip install onnx_tf"
      ],
      "metadata": {
        "colab": {
          "base_uri": "https://localhost:8080/"
        },
        "id": "tMhQZT8lKgCK",
        "outputId": "ade0a2c0-f7bb-4b39-89bb-49b6644ec7d0"
      },
      "execution_count": null,
      "outputs": [
        {
          "output_type": "stream",
          "name": "stdout",
          "text": [
            "Collecting onnx_tf\n",
            "  Downloading onnx_tf-1.10.0-py3-none-any.whl (226 kB)\n",
            "\u001b[2K     \u001b[90m━━━━━━━━━━━━━━━━━━━━━━━━━━━━━━━━━━━━━━━\u001b[0m \u001b[32m226.1/226.1 kB\u001b[0m \u001b[31m5.3 MB/s\u001b[0m eta \u001b[36m0:00:00\u001b[0m\n",
            "\u001b[?25hCollecting onnx>=1.10.2 (from onnx_tf)\n",
            "  Downloading onnx-1.14.0-cp310-cp310-manylinux_2_17_x86_64.manylinux2014_x86_64.whl (14.6 MB)\n",
            "\u001b[2K     \u001b[90m━━━━━━━━━━━━━━━━━━━━━━━━━━━━━━━━━━━━━━━━\u001b[0m \u001b[32m14.6/14.6 MB\u001b[0m \u001b[31m65.9 MB/s\u001b[0m eta \u001b[36m0:00:00\u001b[0m\n",
            "\u001b[?25hRequirement already satisfied: PyYAML in /usr/local/lib/python3.10/dist-packages (from onnx_tf) (6.0)\n",
            "Collecting tensorflow-addons (from onnx_tf)\n",
            "  Downloading tensorflow_addons-0.21.0-cp310-cp310-manylinux_2_17_x86_64.manylinux2014_x86_64.whl (612 kB)\n",
            "\u001b[2K     \u001b[90m━━━━━━━━━━━━━━━━━━━━━━━━━━━━━━━━━━━━━━\u001b[0m \u001b[32m612.1/612.1 kB\u001b[0m \u001b[31m44.4 MB/s\u001b[0m eta \u001b[36m0:00:00\u001b[0m\n",
            "\u001b[?25hRequirement already satisfied: numpy in /usr/local/lib/python3.10/dist-packages (from onnx>=1.10.2->onnx_tf) (1.22.4)\n",
            "Requirement already satisfied: protobuf>=3.20.2 in /usr/local/lib/python3.10/dist-packages (from onnx>=1.10.2->onnx_tf) (3.20.3)\n",
            "Requirement already satisfied: typing-extensions>=3.6.2.1 in /usr/local/lib/python3.10/dist-packages (from onnx>=1.10.2->onnx_tf) (4.7.1)\n",
            "Requirement already satisfied: packaging in /usr/local/lib/python3.10/dist-packages (from tensorflow-addons->onnx_tf) (23.1)\n",
            "Collecting typeguard<3.0.0,>=2.7 (from tensorflow-addons->onnx_tf)\n",
            "  Downloading typeguard-2.13.3-py3-none-any.whl (17 kB)\n",
            "Installing collected packages: typeguard, onnx, tensorflow-addons, onnx_tf\n",
            "Successfully installed onnx-1.14.0 onnx_tf-1.10.0 tensorflow-addons-0.21.0 typeguard-2.13.3\n"
          ]
        }
      ]
    },
    {
      "cell_type": "code",
      "source": [
        "import os\n",
        "import shutil\n",
        "import sys\n",
        "\n",
        "import cv2\n",
        "import numpy as np\n",
        "import onnx\n",
        "import torch\n",
        "import tensorflow as tf\n",
        "from PIL import Image\n",
        "from torchvision import transforms\n",
        "from torchvision.models import *\n",
        "from torchsummary import summary\n",
        "from onnx_tf.backend import prepare"
      ],
      "metadata": {
        "id": "mf8evU-WKbSO",
        "colab": {
          "base_uri": "https://localhost:8080/"
        },
        "outputId": "20537dd6-cd2d-428b-af4c-1b3d5bd9d258"
      },
      "execution_count": null,
      "outputs": [
        {
          "output_type": "stream",
          "name": "stderr",
          "text": [
            "/usr/local/lib/python3.10/dist-packages/tensorflow_addons/utils/tfa_eol_msg.py:23: UserWarning: \n",
            "\n",
            "TensorFlow Addons (TFA) has ended development and introduction of new features.\n",
            "TFA has entered a minimal maintenance and release mode until a planned end of life in May 2024.\n",
            "Please modify downstream libraries to take dependencies from other repositories in our TensorFlow community (e.g. Keras, Keras-CV, and Keras-NLP). \n",
            "\n",
            "For more information see: https://github.com/tensorflow/addons/issues/2807 \n",
            "\n",
            "  warnings.warn(\n"
          ]
        }
      ]
    },
    {
      "cell_type": "code",
      "source": [
        "def convert_onnx_to_tf(onnx_path, tf_path):\n",
        "    \"\"\"\n",
        "        Converts ONNX model to TF 2.X saved file\n",
        "        :param onnx_path: ONNX model path to load\n",
        "        :param tf_path: TF model path to save\n",
        "    \"\"\"\n",
        "    onnx_model = onnx.load(onnx_path)\n",
        "    onnx.checker.check_model(onnx_model)\n",
        "    tf_rep = prepare(onnx_model)  #Prepare TF representation\n",
        "    tf_rep.export_graph(tf_path)  #Export the model\n"
      ],
      "metadata": {
        "id": "SDmPFqpEOii2"
      },
      "execution_count": null,
      "outputs": []
    },
    {
      "cell_type": "code",
      "source": [
        "#load ONNX model\n",
        "onnx_path = \"/content/drive/MyDrive/Nghiên cứu khoa học/Insects_Classification/Reup/training_results/insect_detecting3/weights/best.onnx\"\n",
        "\n",
        "tf_path = \"/content/drive/MyDrive/Nghiên cứu khoa học/Insects_Classification/Reup/training_results/insect_detecting3/weights/model_tf\"\n",
        "#convert ONNX to TF SavedModel\n",
        "convert_onnx_to_tf(onnx_path, tf_path)"
      ],
      "metadata": {
        "colab": {
          "base_uri": "https://localhost:8080/"
        },
        "id": "4WTixn7RH9Wy",
        "outputId": "b71cd584-df27-4d33-b2b3-b9cbe28d92d5"
      },
      "execution_count": null,
      "outputs": [
        {
          "output_type": "stream",
          "name": "stderr",
          "text": [
            "WARNING:absl:Found untraced functions such as gen_tensor_dict while saving (showing 1 of 1). These functions will not be directly callable after loading.\n"
          ]
        }
      ]
    },
    {
      "cell_type": "code",
      "source": [
        "def convert_tf_to_tflite(tf_path, tf_lite_path):\n",
        "    \"\"\"\n",
        "        Converts TF saved model into TFLite model\n",
        "        :param tf_path: TF saved model path to load\n",
        "        :param tf_lite_path: TFLite model path to save\n",
        "    \"\"\"\n",
        "    converter = tf.lite.TFLiteConverter.from_saved_model(tf_path)\n",
        "    tflite_model  = converter.convert()\n",
        "    with open(tf_lite_path, 'wb') as f:\n",
        "        f.write(tflite_model)\n"
      ],
      "metadata": {
        "id": "OhAHNVWqRZoi"
      },
      "execution_count": null,
      "outputs": []
    },
    {
      "cell_type": "code",
      "source": [
        "tf_model_path = \"/content/drive/MyDrive/Nghiên cứu khoa học/Insects_Classification/Reup/training_results/insect_detecting3/weights/model_tf\"\n",
        "tflite_model_path = \"/content/drive/MyDrive/Nghiên cứu khoa học/Insects_Classification/Reup/training_results/insect_detecting3/weights/model.tflite\"\n",
        "\n",
        "convert_tf_to_tflite(tf_model_path, tflite_model_path)\n"
      ],
      "metadata": {
        "id": "l4DPao56RhCG"
      },
      "execution_count": null,
      "outputs": []
    },
    {
      "cell_type": "markdown",
      "source": [
        "2\n",
        "https://github.com/sithu31296/PyTorch-ONNX-TFLite\n"
      ],
      "metadata": {
        "id": "T6cB0DtVWZDZ"
      }
    },
    {
      "cell_type": "code",
      "source": [
        "import onnx\n",
        "\n",
        "onnx_model = onnx.load(\"/content/drive/MyDrive/Nghiên cứu khoa học/Insects_Classification/Reup/training_results/insect_detecting3/weights/best.onnx\")"
      ],
      "metadata": {
        "id": "eS3_9XelUuv3"
      },
      "execution_count": null,
      "outputs": []
    },
    {
      "cell_type": "code",
      "source": [
        "from onnx_tf.backend import prepare\n",
        "\n",
        "tf_rep = prepare(onnx_model)"
      ],
      "metadata": {
        "id": "i1sIpN9qWAwq"
      },
      "execution_count": null,
      "outputs": []
    },
    {
      "cell_type": "code",
      "source": [
        "tf_rep.export_graph(tf_model_path)"
      ],
      "metadata": {
        "colab": {
          "base_uri": "https://localhost:8080/"
        },
        "id": "kowDSftEWDrr",
        "outputId": "90de95ca-94d4-459a-e1ee-3db2544346da"
      },
      "execution_count": null,
      "outputs": [
        {
          "output_type": "stream",
          "name": "stderr",
          "text": [
            "WARNING:absl:Found untraced functions such as gen_tensor_dict while saving (showing 1 of 1). These functions will not be directly callable after loading.\n"
          ]
        }
      ]
    },
    {
      "cell_type": "code",
      "source": [
        "# Convert the model\n",
        "converter = tf.lite.TFLiteConverter.from_saved_model(tf_model_path)\n",
        "tflite_model = converter.convert()\n",
        "\n",
        "# Save the model\n",
        "with open(tflite_model_path, 'wb') as f:\n",
        "    f.write(tflite_model)"
      ],
      "metadata": {
        "id": "1SVd2JaKWSjw"
      },
      "execution_count": null,
      "outputs": []
    },
    {
      "cell_type": "markdown",
      "source": [
        "https://www.tensorflow.org/lite/guide/ops_select"
      ],
      "metadata": {
        "id": "W-M_59x-uf-N"
      }
    },
    {
      "cell_type": "code",
      "source": [
        "import tensorflow as tf\n",
        "\n",
        "saved_model_dir = \"/content/drive/MyDrive/Nghiên cứu khoa học/Insects_Classification/Reup/training_results/insect_detecting3/weights/model_tf\"\n",
        "tflite_model_path = \"/content/drive/MyDrive/Nghiên cứu khoa học/Insects_Classification/Reup/training_results/insect_detecting3/weights/model.tflite\"\n",
        "\n",
        "converter = tf.lite.TFLiteConverter.from_saved_model(saved_model_dir)\n",
        "converter.target_spec.supported_ops = [\n",
        "  tf.lite.OpsSet.TFLITE_BUILTINS, # enable TensorFlow Lite ops.\n",
        "  tf.lite.OpsSet.SELECT_TF_OPS # enable TensorFlow ops.\n",
        "]\n",
        "tflite_model = converter.convert()\n",
        "open(tflite_model_path, \"wb\").write(tflite_model)"
      ],
      "metadata": {
        "colab": {
          "base_uri": "https://localhost:8080/"
        },
        "id": "ToL-UcxjuhcT",
        "outputId": "82bef694-f857-43c9-fd7e-a80626008726"
      },
      "execution_count": null,
      "outputs": [
        {
          "output_type": "execute_result",
          "data": {
            "text/plain": [
              "13539044"
            ]
          },
          "metadata": {},
          "execution_count": 43
        }
      ]
    }
  ],
  "metadata": {
    "language_info": {
      "name": "python"
    },
    "orig_nbformat": 4,
    "colab": {
      "provenance": []
    },
    "kernelspec": {
      "name": "python3",
      "display_name": "Python 3"
    }
  },
  "nbformat": 4,
  "nbformat_minor": 0
}